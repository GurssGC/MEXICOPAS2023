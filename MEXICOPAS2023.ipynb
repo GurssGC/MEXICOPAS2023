{
 "cells": [
  {
   "cell_type": "markdown",
   "id": "f9ecc62c",
   "metadata": {},
   "source": [
    "# Sombra de Agujeros Negros"
   ]
  },
  {
   "cell_type": "markdown",
   "id": "ba26128e",
   "metadata": {},
   "source": [
    "El presente cuadernillo permite determinar el contorno de la sombra de agujeros negros estáticos, simétricamente esféricos, es decir, soluciones de agujeros negros que pueden ser escritos con la siguiente estructura métrica, \n",
    "\n",
    "\\begin{equation}\n",
    "ds^2 = -\\frac{K(r)}{r^2}dt^2+\\frac{r^2}{K(r)}dr^2+r^2d\\theta^2+r^2\\sin{(\\theta)}^2d\\phi^2.\n",
    "\\end{equation}\n",
    "\n",
    "En partícular vamos a estudiar el caso de los agujeros negros de Schwarzschild y Reissner-Nordström, estas dos soluciones tienen la siguiente función métrica $K(r)$\n",
    "\n",
    "\\begin{eqnarray}\n",
    "&& K(r) = r^2 - 2Mr,\\quad\\textit{Schwarzschild}.\\\\\n",
    "&& K(r) = r^2 - 2Mr + q^2,\\quad\\textit{Reissner-Nordström}.\n",
    "\\end{eqnarray}\n",
    "\n",
    "donde $M$ y $q$ son la masa y la carga eléctrica, respectivamente."
   ]
  },
  {
   "cell_type": "code",
   "execution_count": 1,
   "id": "af210acb",
   "metadata": {},
   "outputs": [],
   "source": [
    "# Librerías\n",
    "import numpy as np\n",
    "from scipy import optimize\n",
    "import matplotlib.pyplot as plt\n",
    "import warnings\n",
    "warnings.filterwarnings('ignore')"
   ]
  },
  {
   "cell_type": "code",
   "execution_count": 2,
   "id": "457af64a",
   "metadata": {},
   "outputs": [],
   "source": [
    "# Función Métrica\n",
    "def K(r, M, q=0):\n",
    "    if( q==0 ):\n",
    "        # Schwarzschild\n",
    "        return r**2 - 2*M*r\n",
    "    else: \n",
    "        # Reissner-Nordström\n",
    "        return r**2 - 2*M*r + q**2\n",
    "\n",
    "# M es la masa\n",
    "# q es la carga eléctrica.\n",
    "\n",
    "# Derivada de la función Métrica\n",
    "def dK(r, M):\n",
    "    F = 2*r - 2*M\n",
    "    return F\n",
    "\n",
    "# Potencial Efectivo\n",
    "def Veff(r, M, l, q=0):\n",
    "    F = K(r, M, q ) * ( l**2 / r**4 )\n",
    "    return F\n",
    "\n",
    "# l Momento angular órbital\n",
    "\n",
    "# Parámetro de Impacto \n",
    "def eta(r, M, q):\n",
    "    F = r**2/np.sqrt(K(r, M, q))\n",
    "    return F\n",
    "\n",
    "# Contorno de la sombra\n",
    "def Y(X, rc, M, q=0):\n",
    "    if (rc == rcsch and q==0):\n",
    "        return eta(rcsch, M, 0)**2 - X**2\n",
    "    else:\n",
    "        return eta(rcrn, M, q)**2 - X**2"
   ]
  },
  {
   "cell_type": "markdown",
   "id": "d767b854",
   "metadata": {},
   "source": [
    "El potencial potencial efectivo para el movimiento de los fotones en el plano ecuatorial de agujeros negros estáticos con simetría esférica está dado por\n",
    "\n",
    "\\begin{equation}\n",
    "V_{eff}^{2}(r)=\\frac{l^2}{r^4}K(r),\n",
    "\\end{equation}\n",
    "\n",
    "donde $l$ es el momento angular orbital del fotón. La forma de este potencial se muestra en la siguiente gráfica:"
   ]
  },
  {
   "cell_type": "code",
   "execution_count": 3,
   "id": "16dda642",
   "metadata": {},
   "outputs": [],
   "source": [
    "# Parámetros físicos\n",
    "M = 1.0\n",
    "l = 4.0"
   ]
  },
  {
   "cell_type": "code",
   "execution_count": 4,
   "id": "7ef6175c",
   "metadata": {},
   "outputs": [
    {
     "data": {
      "image/png": "[encoded data removed]",
      "text/plain": [
       "<Figure size 576x432 with 1 Axes>"
      ]
     },
     "metadata": {
      "needs_background": "light"
     },
     "output_type": "display_data"
    }
   ],
   "source": [
    "# Gráfica del Potencial\n",
    "r = np.linspace( 0.0, 25, 100000 )\n",
    "fig, ax = plt.subplots(figsize=(8, 6))\n",
    "plt.plot( r, Veff(r, M, l, 0) , color = 'blue', label = 'Schwarzschild')\n",
    "#plt.plot( r, Veff(r, M, l, q), color = 'red', label = 'Reissner-Nordström' )\n",
    "ax.set_xlim( 0.0, 15.0 )\n",
    "ax.set_ylim( 0.0, 0.7 )\n",
    "ax.set_xlabel('$r$')\n",
    "ax.set_ylabel('$V^{2}_{eff}$', rotation=0)\n",
    "ax.set_title(\"Potencial Efectivo\", va='bottom')\n",
    "plt.legend()\n",
    "plt.show()"
   ]
  },
  {
   "cell_type": "markdown",
   "id": "acd5859a",
   "metadata": {},
   "source": [
    "De la gráfica se observa la existencia de un punto máximo, estos puntos están relacionados con la existencia de órbitas circulares inestables, para fotones en este punto se localiza la foton-esfera. Para que un fotón se mantenga en estas órbitas se debe de cumplir las siguientes condiciones:\n",
    "\n",
    "\\begin{eqnarray}\n",
    "&& \\dot{r}=0\\Rightarrow \\mathcal{E}^{2}-V_{eff}^2(r_{c}) = 0,\\quad\\rightarrow\\quad\\eta^{2}_{c}=\\frac{l^2}{\\mathcal{E}^2}=\\frac{r^4_{c}}{K(r_{c})},\\quad\\textit{Parámetro de Impacto.}\\\\\n",
    "&& \\ddot{r}=0\\Rightarrow \\frac{dV_{eff}^{2}(r_{c})}{dr}=0,\\quad\\textit{Posición del Máximo del Potencial.}\n",
    "\\end{eqnarray}\n",
    "\n",
    "De la primera condición se obtiene el parámetro de impacto para fotones, mientras que de la segunda condición se determina la localización de la órbita circular inestable."
   ]
  },
  {
   "cell_type": "code",
   "execution_count": 5,
   "id": "9815d8df",
   "metadata": {},
   "outputs": [],
   "source": [
    "# Punto máximo del potencial \n",
    "def dV(r, M, l, q=0 ):\n",
    "    if ( q==0 ):\n",
    "        return -(4*l**2/r**5)*K(r, M, 0) + (l**2/r**4)*dK(r, M)\n",
    "    else: \n",
    "        return -(4*l**2/r**5)*K(r, M, 0.45 ) + (l**2/r**4)*dK(r, M)\n",
    "\n",
    "r0 = 2.0\n",
    "rcsch = optimize.newton(dV, r0, args=(M, l, 0))\n",
    "#rcrn = optimize.newton(dV, r0, args=(M, l, q))"
   ]
  },
  {
   "cell_type": "markdown",
   "id": "8b26c5ea",
   "metadata": {},
   "source": [
    "Es necesario determinar las coordenadas celestiales, las cuales nos dará la proyección de la sombra del agujero negro en le cielo vista por un observador en el infinito, \n",
    "\n",
    "\\begin{equation}\n",
    "X=\\lim_{r_{0}\\rightarrow\\infty}\\left(-r_{0}^{2}\\sin{(\\theta_{0})}\\left.\\frac{d\\phi}{dr}\\right|_{\\theta=\\theta_{0}}\\right),\\qquad Y=\\lim_{r_{0}\\rightarrow\\infty}\\left(r_{0}^2\\left.\\frac{d\\theta}{dr}\\right|_{\\theta=\\theta_{0}}\\right).\n",
    "\\end{equation}\n",
    "\n",
    "Contorno de la sombra está dado por, \n",
    "\n",
    "\\begin{equation}\n",
    "X^2+Y^2=R_{s}^2=\\eta_{c}^2.\n",
    "\\end{equation}\n",
    "\n",
    "Observamos que para el caso de agujeros negros estáticos, simétricamente esféricos el radio de la sombra es igual al valor del parámetro de impacto en el radio de la foto-esfera. "
   ]
  },
  {
   "cell_type": "code",
   "execution_count": 6,
   "id": "87046ee0",
   "metadata": {},
   "outputs": [
    {
     "data": {
      "image/png": "[encoded data removed]",
      "text/plain": [
       "<Figure size 576x576 with 1 Axes>"
      ]
     },
     "metadata": {
      "needs_background": "light"
     },
     "output_type": "display_data"
    }
   ],
   "source": [
    "X = np.linspace( -2*np.pi, 2*np.pi, 1000000 )\n",
    "fig, ax = plt.subplots(figsize=(8, 8))\n",
    "plt.plot( X , np.sqrt(Y(X, rcsch, M, 0)) , color = 'blue', label = 'Schwarzschild' )\n",
    "plt.plot( X , -np.sqrt(Y(X, rcsch, M, 0)) , color = 'blue' )\n",
    "#plt.plot( X , np.sqrt(Y(X, rcrn, M, q)) , color = 'red', label = 'Reissner-Nordström' )\n",
    "#plt.plot( X , -np.sqrt(Y(X, rcrn, M, q)) , color = 'red' )\n",
    "ax.set_xlabel('$X$')\n",
    "ax.set_ylabel('$Y$', rotation=0)\n",
    "ax.set_title(\"Sombra de Agujero Negro\", va='bottom')\n",
    "plt.legend()\n",
    "plt.show()"
   ]
  },
  {
   "cell_type": "code",
   "execution_count": null,
   "id": "6e293a0b",
   "metadata": {},
   "outputs": [],
   "source": []
  },
  {
   "cell_type": "code",
   "execution_count": null,
   "id": "8acb8270",
   "metadata": {},
   "outputs": [],
   "source": []
  }
 ],
 "metadata": {
  "kernelspec": {
   "display_name": "Python 3 (ipykernel)",
   "language": "python",
   "name": "python3"
  },
  "language_info": {
   "codemirror_mode": {
    "name": "ipython",
    "version": 3
   },
   "file_extension": ".py",
   "mimetype": "text/x-python",
   "name": "python",
   "nbconvert_exporter": "python",
   "pygments_lexer": "ipython3",
   "version": "3.10.3"
  }
 },
 "nbformat": 4,
 "nbformat_minor": 5
}
